{
 "cells": [
  {
   "cell_type": "code",
   "execution_count": 2,
   "metadata": {},
   "outputs": [],
   "source": [
    "import requests as r\n",
    "import os\n",
    "from flask import Flask\n",
    "import telebot"
   ]
  },
  {
   "cell_type": "code",
   "execution_count": 3,
   "metadata": {},
   "outputs": [],
   "source": [
    "news_key = 'cb380704a94d4952a7bd87da59d7a66b'\n",
    "bot_token = '1853787276:AAHbv5gY2UdWHjwt_0Jd8t3Vm_9DLn5L5SM'\n",
    "url = f'https://newsapi.org/v2/top-headlines?country=ru&apiKey={news_key}'\n",
    "bot_URL = 'https://git.heroku.com/dubravin31.git'\n",
    "news_smile = u'\\U000025FE'"
   ]
  },
  {
   "cell_type": "code",
   "execution_count": 4,
   "metadata": {},
   "outputs": [],
   "source": [
    "bot = telebot.TeleBot(bot_token)\n",
    "server = Flask(__name__)"
   ]
  },
  {
   "cell_type": "code",
   "execution_count": 5,
   "metadata": {},
   "outputs": [],
   "source": [
    "@bot.message_handler(commands = ['start',])\n",
    "def message_handler(message):\n",
    "    bot.reply_to(message, f'Привет для просмотра новостей,вызови команду /news {message.from_user.first_name}')\n",
    "@bot.message_handler(commands=['news',])\n",
    "def message_handler(message):\n",
    "    msg=\"\"\n",
    "    response = requests.get(url)\n",
    "    data = response.json()\n",
    "    for i in range(5):\n",
    "        msg += f\"{news_smile}{data['articles'][i]['title']}\" + '\\n'\n",
    "    bot.reply_to (message,msg)"
   ]
  },
  {
   "cell_type": "code",
   "execution_count": null,
   "metadata": {},
   "outputs": [],
   "source": [
    "bot.polling(none_stop=True)"
   ]
  },
  {
   "cell_type": "code",
   "execution_count": null,
   "metadata": {},
   "outputs": [],
   "source": []
  }
 ],
 "metadata": {
  "kernelspec": {
   "display_name": "Python 3",
   "language": "python",
   "name": "python3"
  },
  "language_info": {
   "codemirror_mode": {
    "name": "ipython",
    "version": 3
   },
   "file_extension": ".py",
   "mimetype": "text/x-python",
   "name": "python",
   "nbconvert_exporter": "python",
   "pygments_lexer": "ipython3",
   "version": "3.9.4"
  }
 },
 "nbformat": 4,
 "nbformat_minor": 4
}
